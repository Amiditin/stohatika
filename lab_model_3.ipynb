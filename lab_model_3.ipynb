{
 "cells": [
  {
   "attachments": {},
   "cell_type": "markdown",
   "metadata": {},
   "source": [
    "# Лабораторная работа по 3 модели\n",
    "\n",
    "## Команда __Марковцы:__\n",
    "- Меркулов Александр\n",
    "- Калугин Евгений\n",
    "- Фомин Дмитрий\n",
    "- Чукаев Иван"
   ]
  },
  {
   "attachments": {},
   "cell_type": "markdown",
   "metadata": {},
   "source": [
    "## Описание модели\n",
    "\n",
    "На вход $n$-канальной СМО поступает простейший поток заявок с интенсивностью $\\lambda$.\n",
    "\n",
    "Интенсивность простейшего потока обслуживания каждого канала $\\mu$.\n",
    "\n",
    "Если заявка застаёт все каналы свободными, она принимается на обслуживание и обслуживается любым одним из $n$-каналов.\n",
    "\n",
    "Если заявка застаёт свободным хотя бы один канал, то она принимается на обслуживание любым из свободных каналов и обслуживается до конца.\n",
    "\n",
    "Если заявка застаёт все каналы занятыми, то она получает отказ (покидает систему не обслуженной).\n",
    "\n",
    "После окончания обслуживания одной заявки освобождается один канал.\n",
    "\n",
    "Состояние рассмотренной системы будем связывать с числом заявок, находящихся в системе."
   ]
  },
  {
   "attachments": {},
   "cell_type": "markdown",
   "metadata": {},
   "source": [
    "## Постановка задачи\n",
    "\n",
    "В городе имеется n станций техобслуживания.\n",
    "\n",
    "Сервисы обслуживает $\\mu$ машин в день, интенсивность входного потока заявок - $\\lambda$ машин в день. \n",
    "\n",
    "После окончания обслуживания один сервис освобождается. \n",
    "\n",
    "Если вновь прибывшая машина застаёт свободным хотя бы один сервис, то она принимается на обслуживание одним из свободных сервисов. \n",
    "\n",
    "Если нет свободных сервисов в городе, то машина уезжает на обслуживание в другой город."
   ]
  },
  {
   "attachments": {},
   "cell_type": "markdown",
   "metadata": {},
   "source": [
    "## Граф состояний\n",
    "\n",
    "![image.png](./images/graph.jpg)"
   ]
  },
  {
   "attachments": {},
   "cell_type": "markdown",
   "metadata": {},
   "source": [
    "## Мат. модель.\n",
    "\n",
    "\n",
    "\n",
    "0\\) $\\;\\mu\\Pi_1=\\lambda\\Pi_0$\n",
    "\n",
    "1\\) $\\;\\lambda\\Pi_0+2\\mu\\Pi_2=(\\lambda+\\mu)\\Pi_1$\n",
    "\n",
    "2\\) $\\;\\lambda\\Pi_1+3\\mu\\Pi_3=(\\lambda+2\\mu)\\Pi_2$\n",
    "\n",
    "…\n",
    "\n",
    "k) $\\;\\lambda\\Pi_{k-1}+(k+1)\\mu\\Pi_{k+1}=(\\lambda+k\\mu)\\Pi_k$\n",
    "\n",
    "…\n",
    "\n",
    "n) $\\;\\lambda\\Pi_{n-1}= n\\mu\\Pi_n$ <br><br><hr><br>\n",
    "\n",
    "1\\) $\\;\\Pi_1=\\frac{\\lambda}{\\mu}\\Pi_0$<br><br>\n",
    "\n",
    "2\\) $\\;2\\mu\\Pi_2=(\\lambda+\\mu)\\Pi_1-\\lambda\\Pi_0$ <br><br>&nbsp;&nbsp;&nbsp;\n",
    "    $\\;2\\mu\\Pi_2=(\\lambda+\\mu)\\frac{\\lambda}{\\mu}\\Pi_0-\\lambda\\Pi_0$ <br><br>&nbsp;&nbsp;&nbsp;\n",
    "    $\\;2\\mu\\Pi_2=\\frac{\\lambda^2+\\lambda\\mu-\\lambda\\mu}{\\mu}\\Pi_0$ <br><br>&nbsp;&nbsp;&nbsp;\n",
    "    $\\;\\Pi_2=\\frac{1}{2}(\\frac{\\lambda}{\\mu})^2\\Pi_0$ <br>&nbsp;&nbsp;&nbsp;\n",
    "\n",
    "3\\) $\\;3\\mu\\Pi_3=(\\lambda+2\\mu)\\Pi_2-\\lambda\\Pi_1$ <br><br>&nbsp;&nbsp;&nbsp;\n",
    "    $\\;3\\mu\\Pi_3=(\\lambda+2\\mu)(\\frac{1}{2})(\\frac{\\lambda}{\\mu})^2\\Pi_0-\\lambda\\frac{\\lambda}{\\mu}\\Pi_0$ <br><br>&nbsp;&nbsp;&nbsp;\n",
    "    $\\;3\\mu\\Pi_3=(\\frac{\\lambda}{\\mu})^2(\\frac{1}{2}(\\lambda+2\\mu)\\Pi_0-\\mu\\Pi_0)$ <br><br>&nbsp;&nbsp;&nbsp;\n",
    "    $\\;3\\mu\\Pi_3=(\\frac{\\lambda}{\\mu})^2\\cdot\\frac{\\lambda}{2}\\Pi_0$ <br><br>&nbsp;&nbsp;&nbsp;\n",
    "    $\\;\\Pi_3=(\\frac{\\lambda}{\\mu})^3\\cdot\\frac{1}{2\\cdot3}\\Pi_0$ <br>\n",
    "\n",
    "…\n",
    "\n",
    "k)  $\\;\\Pi_k=(\\frac{\\lambda}{\\mu})^k\\cdot\\frac{1}{k!}\\Pi_0$ <br>\n",
    "\n",
    "0\\) $\\;\\displaystyle\\Pi_0=\\frac{1}{\\sum_{k=1}^n\\Pi_k}=\\frac{1}{\\sum_{k=1}^n\\big(\\frac{\\lambda}{\\mu}\\big)^k\\cdot\\frac{1}{k!}}$"
   ]
  },
  {
   "attachments": {},
   "cell_type": "markdown",
   "metadata": {},
   "source": [
    "## Программа"
   ]
  },
  {
   "attachments": {},
   "cell_type": "markdown",
   "metadata": {},
   "source": [
    "### Импорты"
   ]
  },
  {
   "cell_type": "code",
   "execution_count": 19,
   "metadata": {},
   "outputs": [],
   "source": [
    "import math\n",
    "import numpy as np"
   ]
  },
  {
   "attachments": {},
   "cell_type": "markdown",
   "metadata": {},
   "source": [
    "## Функции "
   ]
  },
  {
   "cell_type": "code",
   "execution_count": 20,
   "metadata": {},
   "outputs": [],
   "source": [
    "def get_list_Pi(Lambda: float, Mu: float, n: int) -> list[float]:\n",
    "    list_Pi = []\n",
    "    for i in range(n + 1):\n",
    "        list_Pi.append(((Lambda / Mu)**i) / math.factorial(i))\n",
    "    \n",
    "    return list_Pi"
   ]
  },
  {
   "cell_type": "code",
   "execution_count": 21,
   "metadata": {},
   "outputs": [],
   "source": [
    "def get_Pi_0(list_Pi: list[float]) -> float:\n",
    "    return 1/sum(list_Pi)"
   ]
  },
  {
   "cell_type": "code",
   "execution_count": 22,
   "metadata": {},
   "outputs": [],
   "source": [
    "def get_mean_busy_services(list_Pi: list) -> float:\n",
    "    sum = 0 \n",
    "    for i in range(len(list_Pi)):\n",
    "        sum += i * list_Pi[i]\n",
    "        \n",
    "    return sum"
   ]
  },
  {
   "cell_type": "code",
   "execution_count": 23,
   "metadata": {},
   "outputs": [],
   "source": [
    "# Получение состояний системы в определенные моменты времени\n",
    "\n",
    "def get_states(Lambda: float, Mu: float, n: int, interval: int) -> np.ndarray:\n",
    "    cur_cars = 0\n",
    "    states = [0]\n",
    "\n",
    "    for _ in range(interval):\n",
    "        if cur_cars == 0:\n",
    "            if np.random.poisson(Lambda, 1) != [0]:\n",
    "                cur_cars += 1 # принимаем машину\n",
    "\n",
    "        elif 0 < cur_cars < n:\n",
    "            if np.random.poisson(Lambda, 1) != [0]: \n",
    "                cur_cars += 1 # принимаем машину\n",
    "            if np.random.poisson(Mu * cur_cars, 1) != [0]: \n",
    "                cur_cars -= 1 # обслуживаем машину\n",
    "\n",
    "        elif cur_cars == n:\n",
    "            if np.random.poisson(Mu * cur_cars, 1) != [0]:\n",
    "                cur_cars -= 1 # обслуживаем машину\n",
    "\n",
    "        states.append(cur_cars)\n",
    "        \n",
    "    return states"
   ]
  },
  {
   "attachments": {},
   "cell_type": "markdown",
   "metadata": {},
   "source": [
    "## Эксперименты"
   ]
  },
  {
   "cell_type": "code",
   "execution_count": 24,
   "metadata": {},
   "outputs": [
    {
     "name": "stdout",
     "output_type": "stream",
     "text": [
      "Распределение: [0.304, 0.364, 0.219, 0.087, 0.026]\n",
      "Pi_0 = 0.304, среднее количество занятых сервисов: 1.169\n",
      "[0, 1, 1, 1, 1, 1, 1, 1, 1, 1, 1, 1, 1, 1, 1, 1, 1, 1, 1, 1, 1, 1, 1, 1, 1, 1, 1, 1, 1, 1, 1, 1, 1, 1, 1, 1, 1, 1, 1, 1, 1, 1, 1, 1, 1, 1, 1, 1, 1, 1, 1, 1, 1, 1, 1, 1, 1, 1, 1, 1, 1, 1, 1, 1, 1, 1, 1, 1, 1, 1, 1, 1, 1, 1, 1, 1, 1, 1, 1, 1, 1, 1, 1, 1, 1, 1, 1, 1, 1, 1, 1, 1, 1, 1, 1, 1, 1, 1, 1, 1, 1, 1, 1, 1, 1, 1, 1, 1, 1, 1, 1, 1, 1, 1, 1, 1, 1, 1, 1, 1, 1, 1, 1, 1, 1, 1, 1, 1, 1, 1, 1, 1, 1, 1, 1, 1, 1, 1, 1, 1, 1, 1, 1, 1, 1, 1, 1, 1, 1, 1, 1, 1, 1, 1, 1, 1, 1, 1, 1, 1, 1, 1, 1, 1, 1, 1, 1, 1, 1, 1, 1, 1, 1, 1, 1, 1, 1, 1, 1, 1, 1, 1, 1, 1, 1, 1, 1, 1, 1, 1, 1, 1, 1, 1, 1, 1, 1, 1, 1, 1, 1, 1, 1, 1, 1, 1, 1, 1, 1, 1, 1, 1, 1, 1, 1, 1, 1, 1, 1, 1, 1, 1, 1, 1, 1, 1, 1, 1, 1, 1, 1, 1, 1, 1, 1, 1, 1, 1, 1, 1, 1, 1, 1, 1, 1, 1, 1, 1, 1, 1, 1, 1, 1, 1, 1, 1, 1, 1, 1, 1, 1, 1, 1, 1, 1, 1, 1, 1, 1, 1, 1, 1, 1, 1, 1, 1, 1, 1, 1, 1, 1, 1, 1, 1, 1, 1, 1, 1, 1, 1, 1, 1, 1, 1, 1, 1, 1, 1, 1, 1, 1, 1, 1, 1, 1, 1, 1, 1, 1, 1, 1, 1, 1, 1, 1, 1, 1, 1, 1, 1, 1, 1, 1, 1, 1, 1, 1, 1, 1, 1, 1, 1, 1, 1, 1, 1, 1, 1, 1, 1, 1, 1, 1, 1, 1, 1, 1, 1, 1, 1, 1, 1, 1, 1, 1, 1, 1, 1, 1, 1, 1, 1, 1, 1, 1, 1, 1, 1, 1, 1, 1, 1, 1, 1, 1, 1, 1, 1, 1, 1, 1, 1, 1, 1, 1, 1, 1, 1, 1, 1, 1, 1, 1, 1, 1, 1, 1, 1, 1, 1, 1, 1, 1, 1, 1, 1, 1, 1, 1, 1, 1, 1, 1, 1, 1, 1, 1, 1, 1, 1, 1, 1, 1, 1, 1, 1, 1, 1, 1, 1, 1, 1, 1, 1, 1, 1, 1, 1, 1, 1, 1, 1, 1, 1, 1, 1, 1, 1, 1, 1, 1, 1, 1, 1, 1, 1, 1, 1, 1, 1, 1, 1, 1, 1, 1, 1, 1, 1, 1, 1, 1, 1, 1, 1, 1, 1, 1, 1, 1, 1, 1, 1, 1, 1, 1, 1, 1, 1, 1, 1, 1, 1, 1, 1, 1, 1, 1, 1, 1, 1, 1, 1, 1, 1, 1, 1, 1, 1, 1, 1, 1, 1, 1, 1, 1, 1, 1, 1, 1, 1, 1, 1, 1, 1, 1, 1, 1, 1, 1, 1, 1, 1, 1, 1, 1, 1, 1, 1, 1, 1, 1, 1, 1, 1, 1, 1, 1, 1, 1, 1, 1, 1, 1, 1, 1, 1, 1, 1, 1, 1, 1, 1, 1, 1, 1, 1, 1, 1, 1, 1, 1, 1, 1, 1, 1, 1, 1, 1, 1, 1, 1, 1, 1, 1, 1, 1, 1, 1, 1, 1, 1, 1, 1, 1, 1, 1, 1, 1, 1, 1, 1, 1, 1, 1, 1, 1, 1, 1, 1, 1, 1, 1, 1, 1, 1, 1, 1, 1, 1, 1, 1, 1, 1, 1, 1, 1, 1, 1, 1, 1, 1, 1, 1, 1, 1, 1, 1, 1, 1, 1, 1, 1, 1, 1, 1, 1, 1, 1, 1, 1, 1, 1, 1, 1, 1, 1, 1, 1, 1, 1, 1, 1, 1, 1, 1, 1, 1, 1, 1, 1, 1, 1, 1, 1, 1, 1, 1, 1, 1, 1, 1, 1, 1, 1, 1, 1, 1, 1, 1, 1, 1, 1, 1, 1, 1, 1, 1, 1, 1, 1, 1, 1, 1, 1, 0, 1, 1, 1, 1, 1, 1, 1, 1, 1, 1, 1, 1, 1, 1, 1, 1, 1, 1, 1, 1, 1, 1, 1, 1, 1, 1, 1, 1, 1, 1, 1, 1, 1, 1, 1, 1, 1, 1, 1, 1, 1, 1, 1, 1, 1, 1, 1, 1, 1, 1, 1, 1, 1, 1, 1, 1, 1, 1, 1, 1, 1, 1, 1, 1, 1, 1, 1, 1, 1, 1, 1, 1, 1, 1, 1, 1, 1, 1, 1, 1, 1, 1, 1, 1, 1, 1, 1, 1, 1, 1, 1, 1, 1, 1, 1, 1, 1, 1, 1, 1, 1, 1, 1, 1, 1, 1, 1, 1, 1, 1, 1, 1, 1, 1, 1, 1, 1, 1, 1, 1, 1, 1, 1, 1, 1, 1, 1, 1, 1, 1, 1, 1, 1, 1, 1, 1, 1, 1, 1, 1, 1, 1, 1, 1, 1, 1, 1, 1, 1, 1, 1, 1, 1, 1, 1, 1, 1, 1, 1, 1, 1, 1, 1, 1, 1, 1, 1, 1, 1, 1, 1, 1, 1, 1, 1, 1, 1, 1, 1, 1, 1, 1, 1, 1, 1, 1, 1, 1, 1, 1, 1, 1, 1, 1, 1, 1, 1, 1, 1, 1, 1, 1, 1, 1, 1, 1, 1, 1, 1, 1, 1, 1, 1, 1, 1, 1, 1, 1, 1, 1, 1, 1, 1, 1, 1, 1, 1, 1, 1, 1, 1, 1, 1, 1, 1, 1, 1, 1, 1, 1, 1, 1, 1, 1, 1, 1, 1, 1, 1, 1, 1, 1, 1, 1, 1, 1, 1, 1, 1, 1, 1, 1, 1, 1, 1, 1, 1, 1, 1, 1, 1, 1, 1, 1, 1, 1, 1, 1, 1, 1, 1, 1, 1, 1, 1, 1, 1, 1, 1, 1, 1, 1, 1, 1, 1, 1]\n"
     ]
    }
   ],
   "source": [
    "Lambda = 6\n",
    "Mu = 5\n",
    "n = 4\n",
    "interval = 1000\n",
    "\n",
    "list_Pi = get_list_Pi(Lambda, Mu, n)\n",
    "Pi_0 = get_Pi_0(list_Pi)\n",
    "distribution = [Pi_k * Pi_0 for Pi_k in list_Pi]\n",
    "mean_busy_services = get_mean_busy_services(distribution)\n",
    "\n",
    "time_Lambda = Lambda/24\n",
    "time_Mu = Mu/24\n",
    "states = get_states(time_Lambda, time_Mu, n, interval)\n",
    "check_mean = np.mean(states)\n",
    "\n",
    "print(f'Распределение: {[round(elem, 3) for elem in distribution]}')\n",
    "print(f'Выборка: {states} ')\n",
    "print(f'Среднее {check_mean} ')\n",
    "print(f'Pi_0 = {round(Pi_0, 3)}, среднее количество занятых сервисов: {round(mean_busy_services, 3)}')"
   ]
  }
 ],
 "metadata": {
  "kernelspec": {
   "display_name": "Python 3",
   "language": "python",
   "name": "python3"
  },
  "language_info": {
   "codemirror_mode": {
    "name": "ipython",
    "version": 3
   },
   "file_extension": ".py",
   "mimetype": "text/x-python",
   "name": "python",
   "nbconvert_exporter": "python",
   "pygments_lexer": "ipython3",
   "version": "3.10.4"
  },
  "orig_nbformat": 4
 },
 "nbformat": 4,
 "nbformat_minor": 2
}
